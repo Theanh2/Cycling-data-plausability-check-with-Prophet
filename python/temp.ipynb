{
 "cells": [
  {
   "cell_type": "code",
   "execution_count": 2,
   "metadata": {},
   "outputs": [],
   "source": [
    "import numpy as np\n",
    "import pandas as pd\n",
    "from prophet import Prophet\n",
    "import tqdm"
   ]
  },
  {
   "cell_type": "markdown",
   "metadata": {},
   "source": [
    "# 1. Load and preprocess data"
   ]
  },
  {
   "cell_type": "code",
   "execution_count": 3,
   "metadata": {},
   "outputs": [
    {
     "name": "stderr",
     "output_type": "stream",
     "text": [
      "/var/folders/3g/fyfxfrj93vdg3cbm5kkhp1xh0000gn/T/ipykernel_17069/790155708.py:18: DtypeWarning: Columns (7) have mixed types. Specify dtype option on import or set low_memory=False.\n",
      "  df_cycling = pd.concat([pd.read_csv(url) for url in cycling_urls])\n",
      "/var/folders/3g/fyfxfrj93vdg3cbm5kkhp1xh0000gn/T/ipykernel_17069/790155708.py:18: DtypeWarning: Columns (7) have mixed types. Specify dtype option on import or set low_memory=False.\n",
      "  df_cycling = pd.concat([pd.read_csv(url) for url in cycling_urls])\n",
      "/var/folders/3g/fyfxfrj93vdg3cbm5kkhp1xh0000gn/T/ipykernel_17069/790155708.py:18: DtypeWarning: Columns (7) have mixed types. Specify dtype option on import or set low_memory=False.\n",
      "  df_cycling = pd.concat([pd.read_csv(url) for url in cycling_urls])\n",
      "/var/folders/3g/fyfxfrj93vdg3cbm5kkhp1xh0000gn/T/ipykernel_17069/790155708.py:18: DtypeWarning: Columns (7) have mixed types. Specify dtype option on import or set low_memory=False.\n",
      "  df_cycling = pd.concat([pd.read_csv(url) for url in cycling_urls])\n",
      "/var/folders/3g/fyfxfrj93vdg3cbm5kkhp1xh0000gn/T/ipykernel_17069/790155708.py:18: DtypeWarning: Columns (7) have mixed types. Specify dtype option on import or set low_memory=False.\n",
      "  df_cycling = pd.concat([pd.read_csv(url) for url in cycling_urls])\n",
      "/var/folders/3g/fyfxfrj93vdg3cbm5kkhp1xh0000gn/T/ipykernel_17069/790155708.py:18: DtypeWarning: Columns (7) have mixed types. Specify dtype option on import or set low_memory=False.\n",
      "  df_cycling = pd.concat([pd.read_csv(url) for url in cycling_urls])\n",
      "/var/folders/3g/fyfxfrj93vdg3cbm5kkhp1xh0000gn/T/ipykernel_17069/790155708.py:18: DtypeWarning: Columns (7) have mixed types. Specify dtype option on import or set low_memory=False.\n",
      "  df_cycling = pd.concat([pd.read_csv(url) for url in cycling_urls])\n",
      "/var/folders/3g/fyfxfrj93vdg3cbm5kkhp1xh0000gn/T/ipykernel_17069/790155708.py:18: DtypeWarning: Columns (8) have mixed types. Specify dtype option on import or set low_memory=False.\n",
      "  df_cycling = pd.concat([pd.read_csv(url) for url in cycling_urls])\n"
     ]
    }
   ],
   "source": [
    "cycling_urls = [\n",
    "    \"https://opendata.muenchen.de/dataset/022a11ff-4dcb-4f03-b7dd-a6c94a094587/resource/66be7619-a672-4382-bf88-e3688c5abc2b/download/rad_2008_15min_06_06_23_r.csv\",\n",
    "    \"https://opendata.muenchen.de/dataset/022a11ff-4dcb-4f03-b7dd-a6c94a094587/resource/3ef8aad9-a6b0-4c97-a6b7-8c3a63226b37/download/rad_2009_15min_06_06_23_r.csv\",\n",
    "    \"https://opendata.muenchen.de/dataset/022a11ff-4dcb-4f03-b7dd-a6c94a094587/resource/6558a5f9-2c96-4e4b-985d-8eb99b7b73b1/download/rad_2010_15min_06_06_23_r.csv\",\n",
    "    \"https://opendata.muenchen.de/dataset/022a11ff-4dcb-4f03-b7dd-a6c94a094587/resource/86962013-4854-4deb-aaf9-36e3770cde24/download/rad_2011_15min_export_06_06_23_r.csv\",\n",
    "    \"https://opendata.muenchen.de/dataset/022a11ff-4dcb-4f03-b7dd-a6c94a094587/resource/ff5d2ebf-dde6-4f21-9c68-2aab74addeec/download/rad_2012_15min_06_06_23_r.csv\",\n",
    "    \"https://opendata.muenchen.de/dataset/022a11ff-4dcb-4f03-b7dd-a6c94a094587/resource/9f4f798f-0ad1-4e86-8157-15c5e46eaf91/download/rad_2013_15min_06_06_23_r.csv\",\n",
    "    \"https://opendata.muenchen.de/dataset/022a11ff-4dcb-4f03-b7dd-a6c94a094587/resource/784b925b-1d5f-43d3-8353-fd5d02fc7c53/download/rad_2014_15min_06_06_23_r.csv\",\n",
    "    \"https://opendata.muenchen.de/dataset/022a11ff-4dcb-4f03-b7dd-a6c94a094587/resource/d6b3a72c-b180-40a0-a2ab-d97040737f20/download/rad_2015_15min_06_06_23_r.csv\",\n",
    "    \"https://opendata.muenchen.de/dataset/022a11ff-4dcb-4f03-b7dd-a6c94a094587/resource/3913d9e6-1be8-4ee4-ab88-1266cbf161f1/download/rad_2016_15min_06_06_23_r.csv\",\n",
    "    \"https://opendata.muenchen.de/dataset/022a11ff-4dcb-4f03-b7dd-a6c94a094587/resource/694b9927-b4d5-4e8f-9c62-09b8ac03c39a/download/rad_2017_15min_06_06_23_r.csv\",\n",
    "    \"https://opendata.muenchen.de/dataset/022a11ff-4dcb-4f03-b7dd-a6c94a094587/resource/0a97a624-daa4-4cd8-a820-7d2fa6ffe89a/download/rad_2018_15min_06_06_23_r.csv\",\n",
    "    \"https://opendata.muenchen.de/dataset/022a11ff-4dcb-4f03-b7dd-a6c94a094587/resource/893e1f16-6504-4f4f-b8b3-f907ef406cd5/download/rad_2019_15min_06_06_23_r.csv\",\n",
    "    \"https://opendata.muenchen.de/dataset/022a11ff-4dcb-4f03-b7dd-a6c94a094587/resource/9be77b23-a444-4ba5-be9e-7f8594aa0188/download/rad_2020_15min_06_06_23_r.csv\",\n",
    "    \"https://opendata.muenchen.de/dataset/022a11ff-4dcb-4f03-b7dd-a6c94a094587/resource/205c5c9e-9689-4c28-97cb-e575c6c772ce/download/rad_2021_15min_06_06_23_r.csv\",\n",
    "    \"https://opendata.muenchen.de/dataset/022a11ff-4dcb-4f03-b7dd-a6c94a094587/resource/e65e0e26-ce1f-4e58-9260-beccac196e75/download/rad_2022_15min_06_06_23_r.csv\"\n",
    "]\n",
    "df_cycling = pd.concat([pd.read_csv(url) for url in cycling_urls])"
   ]
  },
  {
   "cell_type": "code",
   "execution_count": 8,
   "metadata": {},
   "outputs": [],
   "source": [
    "# temp = df_cycling"
   ]
  },
  {
   "cell_type": "code",
   "execution_count": 9,
   "metadata": {},
   "outputs": [
    {
     "name": "stderr",
     "output_type": "stream",
     "text": [
      "/var/folders/3g/fyfxfrj93vdg3cbm5kkhp1xh0000gn/T/ipykernel_17069/3872561769.py:16: UserWarning: Could not infer format, so each element will be parsed individually, falling back to `dateutil`. To ensure parsing is consistent and as-expected, please specify a format.\n",
      "  df_cycling['time_start'] = pd.to_datetime(df_cycling['time_start'])\n"
     ]
    }
   ],
   "source": [
    "cols = [\"datum\", \"uhrzeit_start\", \"zaehlstelle\", \"richtung_1\", \"richtung_2\", \"kommentar\"]\n",
    "df_cycling = df_cycling[cols]\n",
    "\n",
    "df_cycling = df_cycling.rename(columns={\n",
    "    'datum': 'date',\n",
    "    'uhrzeit_start': 'time_start',\n",
    "    'zaehlstelle': 'station',\n",
    "    'richtung_1': 'direction_1',\n",
    "    'richtung_2': 'direction_2',\n",
    "    'kommentar': 'comment'\n",
    "})\n",
    "\n",
    "df_cycling['ds'] = df_cycling['date'] + ' ' + df_cycling['time_start'].astype(str)\n",
    "\n",
    "df_cycling['date'] = pd.to_datetime(df_cycling['date'])\n",
    "df_cycling['time_start'] = pd.to_datetime(df_cycling['time_start'])\n",
    "\n",
    "df_cycling['year'] = df_cycling['date'].dt.year\n",
    "df_cycling['month'] = df_cycling['date'].dt.month\n",
    "df_cycling['day'] = df_cycling['date'].dt.day\n",
    "df_cycling['dayofweek'] = df_cycling['date'].dt.dayofweek  # Monday=0, Sunday=6\n",
    "df_cycling['hour'] = df_cycling['time_start'].dt.hour\n",
    "df_cycling = df_cycling.drop(columns=[\"time_start\"])\n",
    "\n",
    "df_cycling['hour_weekday'] = df_cycling['dayofweek'] * 24 + df_cycling['hour']\n",
    "df_cycling = df_cycling[(df_cycling.direction_1 != -1) & (df_cycling.direction_2 != -1)]"
   ]
  },
  {
   "cell_type": "code",
   "execution_count": 19,
   "metadata": {},
   "outputs": [],
   "source": [
    "# Define mappings for comments\n",
    "comment_mapping = {\n",
    "    \"Zählstelle noch nicht in Betrieb\": \"station not yet in operation\",\n",
    "    \"Radweg vereist / nach Schneefall nicht geräumt / keine Messung möglich\": \"bikelane icy / not cleared after snowfall / no measure possible\",\n",
    "    \"Baustelle\": \"construction\",\n",
    "    \"Austausch Sensor\": \"replacing sensor\",\n",
    "    \"Ausfall nach Beschädigung\": \"failure after damage\"\n",
    "}\n",
    "\n",
    "# Replace comments using the defined mapping\n",
    "df_cycling['comment'] = df_cycling['comment'].map(comment_mapping).fillna(df_cycling['comment'])\n",
    "\n",
    "# Just for checking\n",
    "print(df_cycling[df_cycling['comment'].notna()].direction_1.unique()) # NaN\n",
    "print(df_cycling[df_cycling['comment'].notna()].direction_2.unique()) # NaN\n",
    "\n"
   ]
  },
  {
   "cell_type": "code",
   "execution_count": 75,
   "metadata": {},
   "outputs": [],
   "source": []
  },
  {
   "cell_type": "code",
   "execution_count": null,
   "metadata": {},
   "outputs": [],
   "source": []
  },
  {
   "cell_type": "code",
   "execution_count": 71,
   "metadata": {},
   "outputs": [],
   "source": [
    "# df_cycling.to_csv('/Users/juntaekwon/work_r/Consulting Project/data_folder/df_cycling.csv', index=False, compression='gzip')\n",
    "# Note: df_cycling is now in data_folder\n",
    "# We don't have to do loading and preprocessing data agian but just load from the folder\n",
    "df_cycling = pd.read_csv('/Users/juntaekwon/work_r/Consulting Project/data_folder/df_cycling.csv', compression='gzip')\n"
   ]
  },
  {
   "cell_type": "code",
   "execution_count": 77,
   "metadata": {},
   "outputs": [
    {
     "name": "stderr",
     "output_type": "stream",
     "text": [
      "/var/folders/3g/fyfxfrj93vdg3cbm5kkhp1xh0000gn/T/ipykernel_17069/907981283.py:1: DtypeWarning: Columns (4) have mixed types. Specify dtype option on import or set low_memory=False.\n",
      "  a = pd.read_csv('/Users/juntaekwon/work_r/Consulting Project/data_folder/df_cycling.csv', compression='gzip')\n"
     ]
    }
   ],
   "source": [
    "a = pd.read_csv('/Users/juntaekwon/work_r/Consulting Project/data_folder/df_cycling.csv', compression='gzip')"
   ]
  },
  {
   "cell_type": "code",
   "execution_count": 79,
   "metadata": {},
   "outputs": [
    {
     "data": {
      "text/plain": [
       "array([nan, 'station not yet in operation',\n",
       "       'bikelane icy / not cleared after snowfall / no measure possible',\n",
       "       'construction', 'replacing sensor', 'failure after damage'],\n",
       "      dtype=object)"
      ]
     },
     "execution_count": 79,
     "metadata": {},
     "output_type": "execute_result"
    }
   ],
   "source": []
  },
  {
   "cell_type": "code",
   "execution_count": null,
   "metadata": {},
   "outputs": [],
   "source": []
  }
 ],
 "metadata": {
  "kernelspec": {
   "display_name": ".venv",
   "language": "python",
   "name": "python3"
  },
  "language_info": {
   "codemirror_mode": {
    "name": "ipython",
    "version": 3
   },
   "file_extension": ".py",
   "mimetype": "text/x-python",
   "name": "python",
   "nbconvert_exporter": "python",
   "pygments_lexer": "ipython3",
   "version": "3.9.18"
  }
 },
 "nbformat": 4,
 "nbformat_minor": 2
}
